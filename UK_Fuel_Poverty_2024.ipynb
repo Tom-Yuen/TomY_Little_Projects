{
  "nbformat": 4,
  "nbformat_minor": 0,
  "metadata": {
    "colab": {
      "provenance": [],
      "authorship_tag": "ABX9TyOaTdg/XboAfJsFDU4dk1iZ",
      "include_colab_link": true
    },
    "kernelspec": {
      "name": "python3",
      "display_name": "Python 3"
    },
    "language_info": {
      "name": "python"
    }
  },
  "cells": [
    {
      "cell_type": "markdown",
      "metadata": {
        "id": "view-in-github",
        "colab_type": "text"
      },
      "source": [
        "<a href=\"https://colab.research.google.com/github/Tom-Yuen/TomY_Little_Projects/blob/main/UK_Fuel_Poverty_2024.ipynb\" target=\"_parent\"><img src=\"https://colab.research.google.com/assets/colab-badge.svg\" alt=\"Open In Colab\"/></a>"
      ]
    },
    {
      "cell_type": "code",
      "execution_count": 4,
      "metadata": {
        "colab": {
          "base_uri": "https://localhost:8080/"
        },
        "id": "p3QoinlQtO96",
        "outputId": "ce165bc9-fa4c-465f-bfef-20811b86dd2c"
      },
      "outputs": [
        {
          "output_type": "stream",
          "name": "stdout",
          "text": [
            "       LSOA Code           LSOA Name    LA Code        LA Name      Region  \\\n",
            "0      E01020634  County Durham 001A  E06000047  County Durham  North East   \n",
            "1      E01020635  County Durham 001B  E06000047  County Durham  North East   \n",
            "2      E01020636  County Durham 001C  E06000047  County Durham  North East   \n",
            "3      E01020654  County Durham 001D  E06000047  County Durham  North East   \n",
            "4      E01020676  County Durham 001E  E06000047  County Durham  North East   \n",
            "...          ...                 ...        ...            ...         ...   \n",
            "33752  E01032697      Wiltshire 066C  E06000054      Wiltshire  South West   \n",
            "33753  E01034557      Wiltshire 066D  E06000054      Wiltshire  South West   \n",
            "33754  E01034558      Wiltshire 066E  E06000054      Wiltshire  South West   \n",
            "33755        NaN                 NaN        NaN            NaN         NaN   \n",
            "33756        NaN                 NaN        NaN            NaN         NaN   \n",
            "\n",
            "       Number of households  Number of households in fuel poverty  \\\n",
            "0                     710.0                                  59.0   \n",
            "1                     632.0                                  48.0   \n",
            "2                     827.0                                  85.0   \n",
            "3                     818.0                                  65.0   \n",
            "4                     699.0                                  82.0   \n",
            "...                     ...                                   ...   \n",
            "33752                 641.0                                  47.0   \n",
            "33753                 488.0                                  54.0   \n",
            "33754                 493.0                                  29.0   \n",
            "33755                   NaN                                   NaN   \n",
            "33756                   NaN                                   NaN   \n",
            "\n",
            "      Proportion of households fuel poor (%)  \n",
            "0                                   8.309859  \n",
            "1                                   7.594937  \n",
            "2                                  10.278114  \n",
            "3                                    7.94621  \n",
            "4                                  11.731044  \n",
            "...                                      ...  \n",
            "33752                                  7.332  \n",
            "33753                                 11.065  \n",
            "33754                                  5.882  \n",
            "33755                                England  \n",
            "33756                                    NaN  \n",
            "\n",
            "[33757 rows x 8 columns]\n"
          ]
        }
      ],
      "source": [
        "import pandas as pd\n",
        "\n",
        "# URL of the Excel file\n",
        "url = \"https://assets.publishing.service.gov.uk/media/663a29608603389a07a6d1b4/2024_Sub-Regional_Tables_Final.xlsx\"\n",
        "\n",
        "# Read the Excel file, skip the first 2 rows, and use the third row as header\n",
        "df = pd.read_excel(url, sheet_name=\"Table 3\", skiprows=2, header=0)\n",
        "\n",
        "# Drop the row where 'LSOA' column has the value 'Back to contents'\n",
        "df = df[df['LSOA Code'] != 'Back to contents']\n",
        "\n",
        "# Display the DataFrame\n",
        "print(df)\n"
      ]
    },
    {
      "cell_type": "code",
      "source": [
        "# Group by the 'Region' column and sum up the relevant columns\n",
        "grouped_df = df.groupby(\"Region\").agg({\n",
        "    \"Number of households\": \"sum\",\n",
        "    \"Number of households in fuel poverty\": \"sum\"\n",
        "}).reset_index()\n",
        "\n",
        "# Add a new column for the percentage in fuel poverty\n",
        "grouped_df[\"% in fuel poverty\"] = (grouped_df[\"Number of households in fuel poverty\"] / grouped_df[\"Number of households\"]) * 100\n",
        "\n",
        "# Display the grouped DataFrame\n",
        "print(grouped_df)\n"
      ],
      "metadata": {
        "colab": {
          "base_uri": "https://localhost:8080/"
        },
        "id": "xOYWt3JItTUO",
        "outputId": "b7f01bdc-be67-441d-c817-938bd8bfd8cd"
      },
      "execution_count": 6,
      "outputs": [
        {
          "output_type": "stream",
          "name": "stdout",
          "text": [
            "                     Region  Number of households  \\\n",
            "0             East Midlands             2110928.0   \n",
            "1           East of England             2687733.0   \n",
            "2                    London             3683167.0   \n",
            "3                North East             1203514.0   \n",
            "4                North West             3242792.0   \n",
            "5                South East             3921544.0   \n",
            "6                South West             2563587.0   \n",
            "7             West Midlands             2514178.0   \n",
            "8  Yorkshire and The Humber             2400499.0   \n",
            "\n",
            "   Number of households in fuel poverty  % in fuel poverty  \n",
            "0                              317789.0          15.054469  \n",
            "1                              269281.0          10.018890  \n",
            "2                              383768.0          10.419511  \n",
            "3                              131122.0          10.894929  \n",
            "4                              458323.0          14.133592  \n",
            "5                              381503.0           9.728388  \n",
            "6                              330669.0          12.898685  \n",
            "7                              493723.0          19.637552  \n",
            "8                              408890.0          17.033542  \n"
          ]
        }
      ]
    },
    {
      "cell_type": "code",
      "source": [],
      "metadata": {
        "id": "M-E8l8oAvbD8"
      },
      "execution_count": null,
      "outputs": []
    }
  ]
}