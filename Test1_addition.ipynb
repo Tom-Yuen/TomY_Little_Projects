{
  "nbformat": 4,
  "nbformat_minor": 0,
  "metadata": {
    "colab": {
      "provenance": []
    },
    "kernelspec": {
      "name": "python3",
      "display_name": "Python 3"
    },
    "language_info": {
      "name": "python"
    },
    "widgets": {
      "application/vnd.jupyter.widget-state+json": {
        "28fc1883588d4d939639cd075b2e2814": {
          "model_module": "@jupyter-widgets/controls",
          "model_name": "ButtonModel",
          "model_module_version": "1.5.0",
          "state": {
            "_dom_classes": [],
            "_model_module": "@jupyter-widgets/controls",
            "_model_module_version": "1.5.0",
            "_model_name": "ButtonModel",
            "_view_count": null,
            "_view_module": "@jupyter-widgets/controls",
            "_view_module_version": "1.5.0",
            "_view_name": "ButtonView",
            "button_style": "",
            "description": "Yes",
            "disabled": false,
            "icon": "",
            "layout": "IPY_MODEL_bc23271813d94fb89d2e20a75e2ed076",
            "style": "IPY_MODEL_bdff385eb24b4f819a5d8bde7c458438",
            "tooltip": ""
          }
        },
        "bc23271813d94fb89d2e20a75e2ed076": {
          "model_module": "@jupyter-widgets/base",
          "model_name": "LayoutModel",
          "model_module_version": "1.2.0",
          "state": {
            "_model_module": "@jupyter-widgets/base",
            "_model_module_version": "1.2.0",
            "_model_name": "LayoutModel",
            "_view_count": null,
            "_view_module": "@jupyter-widgets/base",
            "_view_module_version": "1.2.0",
            "_view_name": "LayoutView",
            "align_content": null,
            "align_items": null,
            "align_self": null,
            "border": null,
            "bottom": null,
            "display": null,
            "flex": null,
            "flex_flow": null,
            "grid_area": null,
            "grid_auto_columns": null,
            "grid_auto_flow": null,
            "grid_auto_rows": null,
            "grid_column": null,
            "grid_gap": null,
            "grid_row": null,
            "grid_template_areas": null,
            "grid_template_columns": null,
            "grid_template_rows": null,
            "height": null,
            "justify_content": null,
            "justify_items": null,
            "left": null,
            "margin": null,
            "max_height": null,
            "max_width": null,
            "min_height": null,
            "min_width": null,
            "object_fit": null,
            "object_position": null,
            "order": null,
            "overflow": null,
            "overflow_x": null,
            "overflow_y": null,
            "padding": null,
            "right": null,
            "top": null,
            "visibility": null,
            "width": null
          }
        },
        "bdff385eb24b4f819a5d8bde7c458438": {
          "model_module": "@jupyter-widgets/controls",
          "model_name": "ButtonStyleModel",
          "model_module_version": "1.5.0",
          "state": {
            "_model_module": "@jupyter-widgets/controls",
            "_model_module_version": "1.5.0",
            "_model_name": "ButtonStyleModel",
            "_view_count": null,
            "_view_module": "@jupyter-widgets/base",
            "_view_module_version": "1.2.0",
            "_view_name": "StyleView",
            "button_color": null,
            "font_weight": ""
          }
        },
        "5f2d4bdca246453aa299b120306ea7df": {
          "model_module": "@jupyter-widgets/controls",
          "model_name": "ButtonModel",
          "model_module_version": "1.5.0",
          "state": {
            "_dom_classes": [],
            "_model_module": "@jupyter-widgets/controls",
            "_model_module_version": "1.5.0",
            "_model_name": "ButtonModel",
            "_view_count": null,
            "_view_module": "@jupyter-widgets/controls",
            "_view_module_version": "1.5.0",
            "_view_name": "ButtonView",
            "button_style": "",
            "description": "No",
            "disabled": false,
            "icon": "",
            "layout": "IPY_MODEL_ac43eb25b1624e36b1b13de874c49fc4",
            "style": "IPY_MODEL_8ee6ca5bf75f4ab1a762951250ec0eaa",
            "tooltip": ""
          }
        },
        "ac43eb25b1624e36b1b13de874c49fc4": {
          "model_module": "@jupyter-widgets/base",
          "model_name": "LayoutModel",
          "model_module_version": "1.2.0",
          "state": {
            "_model_module": "@jupyter-widgets/base",
            "_model_module_version": "1.2.0",
            "_model_name": "LayoutModel",
            "_view_count": null,
            "_view_module": "@jupyter-widgets/base",
            "_view_module_version": "1.2.0",
            "_view_name": "LayoutView",
            "align_content": null,
            "align_items": null,
            "align_self": null,
            "border": null,
            "bottom": null,
            "display": null,
            "flex": null,
            "flex_flow": null,
            "grid_area": null,
            "grid_auto_columns": null,
            "grid_auto_flow": null,
            "grid_auto_rows": null,
            "grid_column": null,
            "grid_gap": null,
            "grid_row": null,
            "grid_template_areas": null,
            "grid_template_columns": null,
            "grid_template_rows": null,
            "height": null,
            "justify_content": null,
            "justify_items": null,
            "left": null,
            "margin": null,
            "max_height": null,
            "max_width": null,
            "min_height": null,
            "min_width": null,
            "object_fit": null,
            "object_position": null,
            "order": null,
            "overflow": null,
            "overflow_x": null,
            "overflow_y": null,
            "padding": null,
            "right": null,
            "top": null,
            "visibility": null,
            "width": null
          }
        },
        "8ee6ca5bf75f4ab1a762951250ec0eaa": {
          "model_module": "@jupyter-widgets/controls",
          "model_name": "ButtonStyleModel",
          "model_module_version": "1.5.0",
          "state": {
            "_model_module": "@jupyter-widgets/controls",
            "_model_module_version": "1.5.0",
            "_model_name": "ButtonStyleModel",
            "_view_count": null,
            "_view_module": "@jupyter-widgets/base",
            "_view_module_version": "1.2.0",
            "_view_name": "StyleView",
            "button_color": null,
            "font_weight": ""
          }
        }
      }
    }
  },
  "cells": [
    {
      "cell_type": "code",
      "source": [
        "import ipywidgets as widgets\n",
        "from IPython.display import display\n",
        "from datetime import date\n"
      ],
      "metadata": {
        "id": "3YtYbpLy58QV"
      },
      "execution_count": null,
      "outputs": []
    },
    {
      "cell_type": "code",
      "source": [
        "# Function to handle user input and ensure it's a number\n",
        "def get_number(prompt):\n",
        "    while True:\n",
        "        try:\n",
        "            num = float(input(prompt))\n",
        "            if num.is_integer():\n",
        "                return int(num)\n",
        "            return num\n",
        "        except ValueError:\n",
        "            print(\"That's not a valid number. Please try again.\")\n",
        "\n",
        "# Function to add numbers\n",
        "def add_numbers(b):\n",
        "    result = num1 + num2\n",
        "    print(f\"The sum is: {result}\")\n",
        "\n",
        "# Function for no addition\n",
        "def no_addition(b):\n",
        "    print(\"Alright, no addition performed.\")\n"
      ],
      "metadata": {
        "id": "Lhtefkw859JH"
      },
      "execution_count": null,
      "outputs": []
    },
    {
      "cell_type": "code",
      "source": [
        "# Get today's date\n",
        "today = date.today()\n",
        "\n",
        "# Print today's date and \"Hello world!\" on the same line\n",
        "print(\"Today's date is:\", today, \". Hello world!\")\n",
        "print(\"Let's do some maths\")\n",
        "\n",
        "# Ask the user to input two numbers\n",
        "num1 = get_number(\"Enter the first number: \")\n",
        "num2 = get_number(\"Enter the second number: \")\n",
        "\n",
        "# Print the numbers to confirm input\n",
        "print(\"You entered:\", num1, \"and\", num2)\n"
      ],
      "metadata": {
        "colab": {
          "base_uri": "https://localhost:8080/"
        },
        "id": "RelBBOkw5_Ot",
        "outputId": "0e29b316-9739-414a-f937-39fb4b7adc43"
      },
      "execution_count": null,
      "outputs": [
        {
          "output_type": "stream",
          "name": "stdout",
          "text": [
            "Today's date is: 2024-08-10 . Hello world!\n",
            "Let's do some maths\n",
            "Enter the first number: 1\n",
            "Enter the second number: 22.3\n",
            "You entered: 1 and 22.3\n"
          ]
        }
      ]
    },
    {
      "cell_type": "code",
      "source": [
        "# Create Yes and No buttons using ipywidgets\n",
        "yes_button = widgets.Button(description=\"Yes\")\n",
        "no_button = widgets.Button(description=\"No\")\n",
        "\n",
        "# Bind the button clicks to functions\n",
        "yes_button.on_click(add_numbers)\n",
        "no_button.on_click(no_addition)\n",
        "\n",
        "# Display the buttons\n",
        "display(yes_button, no_button)\n"
      ],
      "metadata": {
        "colab": {
          "base_uri": "https://localhost:8080/",
          "height": 98,
          "referenced_widgets": [
            "28fc1883588d4d939639cd075b2e2814",
            "bc23271813d94fb89d2e20a75e2ed076",
            "bdff385eb24b4f819a5d8bde7c458438",
            "5f2d4bdca246453aa299b120306ea7df",
            "ac43eb25b1624e36b1b13de874c49fc4",
            "8ee6ca5bf75f4ab1a762951250ec0eaa"
          ]
        },
        "id": "CoVXSpYf6BZI",
        "outputId": "3e38ee6f-a272-4c41-d018-0d587bcdd838"
      },
      "execution_count": null,
      "outputs": [
        {
          "output_type": "display_data",
          "data": {
            "text/plain": [
              "Button(description='Yes', style=ButtonStyle())"
            ],
            "application/vnd.jupyter.widget-view+json": {
              "version_major": 2,
              "version_minor": 0,
              "model_id": "28fc1883588d4d939639cd075b2e2814"
            }
          },
          "metadata": {}
        },
        {
          "output_type": "display_data",
          "data": {
            "text/plain": [
              "Button(description='No', style=ButtonStyle())"
            ],
            "application/vnd.jupyter.widget-view+json": {
              "version_major": 2,
              "version_minor": 0,
              "model_id": "5f2d4bdca246453aa299b120306ea7df"
            }
          },
          "metadata": {}
        },
        {
          "output_type": "stream",
          "name": "stdout",
          "text": [
            "The sum is: 23.3\n"
          ]
        }
      ]
    }
  ]
}