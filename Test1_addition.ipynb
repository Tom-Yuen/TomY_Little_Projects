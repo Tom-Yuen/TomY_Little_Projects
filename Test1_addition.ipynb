{
  "nbformat": 4,
  "nbformat_minor": 0,
  "metadata": {
    "colab": {
      "provenance": []
    },
    "kernelspec": {
      "name": "python3",
      "display_name": "Python 3"
    },
    "language_info": {
      "name": "python"
    },
    "widgets": {
      "application/vnd.jupyter.widget-state+json": {
        "3d8f4228b11c4e5396b380c679dbbda1": {
          "model_module": "@jupyter-widgets/controls",
          "model_name": "ButtonModel",
          "model_module_version": "1.5.0",
          "state": {
            "_dom_classes": [],
            "_model_module": "@jupyter-widgets/controls",
            "_model_module_version": "1.5.0",
            "_model_name": "ButtonModel",
            "_view_count": null,
            "_view_module": "@jupyter-widgets/controls",
            "_view_module_version": "1.5.0",
            "_view_name": "ButtonView",
            "button_style": "",
            "description": "Yes",
            "disabled": false,
            "icon": "",
            "layout": "IPY_MODEL_b2d89d9ba1544db5b4a3dd023ef3aeb4",
            "style": "IPY_MODEL_03f40a5d413b4d5da90c8d0ce75cee73",
            "tooltip": ""
          }
        },
        "b2d89d9ba1544db5b4a3dd023ef3aeb4": {
          "model_module": "@jupyter-widgets/base",
          "model_name": "LayoutModel",
          "model_module_version": "1.2.0",
          "state": {
            "_model_module": "@jupyter-widgets/base",
            "_model_module_version": "1.2.0",
            "_model_name": "LayoutModel",
            "_view_count": null,
            "_view_module": "@jupyter-widgets/base",
            "_view_module_version": "1.2.0",
            "_view_name": "LayoutView",
            "align_content": null,
            "align_items": null,
            "align_self": null,
            "border": null,
            "bottom": null,
            "display": null,
            "flex": null,
            "flex_flow": null,
            "grid_area": null,
            "grid_auto_columns": null,
            "grid_auto_flow": null,
            "grid_auto_rows": null,
            "grid_column": null,
            "grid_gap": null,
            "grid_row": null,
            "grid_template_areas": null,
            "grid_template_columns": null,
            "grid_template_rows": null,
            "height": null,
            "justify_content": null,
            "justify_items": null,
            "left": null,
            "margin": null,
            "max_height": null,
            "max_width": null,
            "min_height": null,
            "min_width": null,
            "object_fit": null,
            "object_position": null,
            "order": null,
            "overflow": null,
            "overflow_x": null,
            "overflow_y": null,
            "padding": null,
            "right": null,
            "top": null,
            "visibility": null,
            "width": null
          }
        },
        "03f40a5d413b4d5da90c8d0ce75cee73": {
          "model_module": "@jupyter-widgets/controls",
          "model_name": "ButtonStyleModel",
          "model_module_version": "1.5.0",
          "state": {
            "_model_module": "@jupyter-widgets/controls",
            "_model_module_version": "1.5.0",
            "_model_name": "ButtonStyleModel",
            "_view_count": null,
            "_view_module": "@jupyter-widgets/base",
            "_view_module_version": "1.2.0",
            "_view_name": "StyleView",
            "button_color": null,
            "font_weight": ""
          }
        },
        "58c25ce024f14567985e23cdfcc49327": {
          "model_module": "@jupyter-widgets/controls",
          "model_name": "ButtonModel",
          "model_module_version": "1.5.0",
          "state": {
            "_dom_classes": [],
            "_model_module": "@jupyter-widgets/controls",
            "_model_module_version": "1.5.0",
            "_model_name": "ButtonModel",
            "_view_count": null,
            "_view_module": "@jupyter-widgets/controls",
            "_view_module_version": "1.5.0",
            "_view_name": "ButtonView",
            "button_style": "",
            "description": "No",
            "disabled": false,
            "icon": "",
            "layout": "IPY_MODEL_3a6b4a48c6e445778219cfb36ba8d430",
            "style": "IPY_MODEL_898d8d324eb34d04857dca236e6bcb79",
            "tooltip": ""
          }
        },
        "3a6b4a48c6e445778219cfb36ba8d430": {
          "model_module": "@jupyter-widgets/base",
          "model_name": "LayoutModel",
          "model_module_version": "1.2.0",
          "state": {
            "_model_module": "@jupyter-widgets/base",
            "_model_module_version": "1.2.0",
            "_model_name": "LayoutModel",
            "_view_count": null,
            "_view_module": "@jupyter-widgets/base",
            "_view_module_version": "1.2.0",
            "_view_name": "LayoutView",
            "align_content": null,
            "align_items": null,
            "align_self": null,
            "border": null,
            "bottom": null,
            "display": null,
            "flex": null,
            "flex_flow": null,
            "grid_area": null,
            "grid_auto_columns": null,
            "grid_auto_flow": null,
            "grid_auto_rows": null,
            "grid_column": null,
            "grid_gap": null,
            "grid_row": null,
            "grid_template_areas": null,
            "grid_template_columns": null,
            "grid_template_rows": null,
            "height": null,
            "justify_content": null,
            "justify_items": null,
            "left": null,
            "margin": null,
            "max_height": null,
            "max_width": null,
            "min_height": null,
            "min_width": null,
            "object_fit": null,
            "object_position": null,
            "order": null,
            "overflow": null,
            "overflow_x": null,
            "overflow_y": null,
            "padding": null,
            "right": null,
            "top": null,
            "visibility": null,
            "width": null
          }
        },
        "898d8d324eb34d04857dca236e6bcb79": {
          "model_module": "@jupyter-widgets/controls",
          "model_name": "ButtonStyleModel",
          "model_module_version": "1.5.0",
          "state": {
            "_model_module": "@jupyter-widgets/controls",
            "_model_module_version": "1.5.0",
            "_model_name": "ButtonStyleModel",
            "_view_count": null,
            "_view_module": "@jupyter-widgets/base",
            "_view_module_version": "1.2.0",
            "_view_name": "StyleView",
            "button_color": null,
            "font_weight": ""
          }
        }
      }
    }
  },
  "cells": [
    {
      "cell_type": "markdown",
      "source": [
        "# 1st test to put something online\n",
        "## 1. Using Google CoLab online Jupyter notebook to prepare the Python code\n",
        "## 2. Save it in Gibhub instead of local machine\n",
        "## 3. Link it to Binder so use can try the code without installing the environment.\n",
        "### Let's see."
      ],
      "metadata": {
        "id": "NEW-c_ME_BoZ"
      }
    },
    {
      "cell_type": "markdown",
      "source": [
        "## Loading the necessary libraries"
      ],
      "metadata": {
        "id": "pvR9gD2k_tpo"
      }
    },
    {
      "cell_type": "code",
      "source": [
        "import ipywidgets as widgets\n",
        "from IPython.display import display\n",
        "from datetime import date\n"
      ],
      "metadata": {
        "id": "3YtYbpLy58QV"
      },
      "execution_count": 1,
      "outputs": []
    },
    {
      "cell_type": "markdown",
      "source": [
        "## We will do some numbers and addition here. So we need to check if user's input are numbers, or we need to ask them to retry. We aslo define function for addtion here."
      ],
      "metadata": {
        "id": "KW2-kzRS_1ag"
      }
    },
    {
      "cell_type": "code",
      "source": [
        "# Function to handle user input and ensure it's a number\n",
        "def get_number(prompt):\n",
        "    while True:\n",
        "        try:\n",
        "            num = float(input(prompt))\n",
        "            if num.is_integer():\n",
        "                return int(num)\n",
        "            return num\n",
        "        except ValueError:\n",
        "            print(\"That's not a valid number. Please try again.\")\n",
        "\n",
        "# Function to add numbers\n",
        "def add_numbers(b):\n",
        "    result = num1 + num2\n",
        "    print(f\"The sum is: {result}\")\n",
        "\n",
        "# Function for no addition\n",
        "def no_addition(b):\n",
        "    print(\"Alright, no addition performed.\")\n"
      ],
      "metadata": {
        "id": "Lhtefkw859JH"
      },
      "execution_count": 2,
      "outputs": []
    },
    {
      "cell_type": "markdown",
      "source": [
        "## Testing how to output \"Today\", and then using \"get_number\" to ask for input."
      ],
      "metadata": {
        "id": "Ejs96CI-AJwf"
      }
    },
    {
      "cell_type": "code",
      "source": [
        "# Get today's date\n",
        "today = date.today()\n",
        "\n",
        "# Print today's date and \"Hello world!\" on the same line\n",
        "print(\"Today's date is:\", today, \". Hello world!\")\n",
        "print(\"Let's do some maths\")\n",
        "\n",
        "# Ask the user to input two numbers\n",
        "num1 = get_number(\"Enter the first number: \")\n",
        "num2 = get_number(\"Enter the second number: \")\n",
        "\n",
        "# Print the numbers to confirm input\n",
        "print(\"You entered:\", num1, \"and\", num2)\n",
        "\n",
        "# Print question\n",
        "print(\"Do you want to add them up?\")\n"
      ],
      "metadata": {
        "colab": {
          "base_uri": "https://localhost:8080/"
        },
        "id": "RelBBOkw5_Ot",
        "outputId": "14ee1784-3afc-4e7e-f264-acc12629d2a2"
      },
      "execution_count": 6,
      "outputs": [
        {
          "output_type": "stream",
          "name": "stdout",
          "text": [
            "Today's date is: 2024-08-11 . Hello world!\n",
            "Let's do some maths\n",
            "Enter the first number: 15\n",
            "Enter the second number: 20\n",
            "You entered: 15 and 20\n",
            "Do you want to add them up?\n"
          ]
        }
      ]
    },
    {
      "cell_type": "markdown",
      "source": [
        "## An interesting test on creating buttons, and reaction after a click."
      ],
      "metadata": {
        "id": "kTASuW1OAYc4"
      }
    },
    {
      "cell_type": "code",
      "source": [
        "# Create Yes and No buttons using ipywidgets\n",
        "yes_button = widgets.Button(description=\"Yes\")\n",
        "no_button = widgets.Button(description=\"No\")\n",
        "\n",
        "# Bind the button clicks to functions\n",
        "yes_button.on_click(add_numbers)\n",
        "no_button.on_click(no_addition)\n",
        "\n",
        "# Display the buttons\n",
        "display(yes_button, no_button)\n"
      ],
      "metadata": {
        "colab": {
          "base_uri": "https://localhost:8080/",
          "height": 116,
          "referenced_widgets": [
            "3d8f4228b11c4e5396b380c679dbbda1",
            "b2d89d9ba1544db5b4a3dd023ef3aeb4",
            "03f40a5d413b4d5da90c8d0ce75cee73",
            "58c25ce024f14567985e23cdfcc49327",
            "3a6b4a48c6e445778219cfb36ba8d430",
            "898d8d324eb34d04857dca236e6bcb79"
          ]
        },
        "id": "CoVXSpYf6BZI",
        "outputId": "566e42ac-c7e4-45df-b55b-447009ec1c01"
      },
      "execution_count": 7,
      "outputs": [
        {
          "output_type": "display_data",
          "data": {
            "text/plain": [
              "Button(description='Yes', style=ButtonStyle())"
            ],
            "application/vnd.jupyter.widget-view+json": {
              "version_major": 2,
              "version_minor": 0,
              "model_id": "3d8f4228b11c4e5396b380c679dbbda1"
            }
          },
          "metadata": {}
        },
        {
          "output_type": "display_data",
          "data": {
            "text/plain": [
              "Button(description='No', style=ButtonStyle())"
            ],
            "application/vnd.jupyter.widget-view+json": {
              "version_major": 2,
              "version_minor": 0,
              "model_id": "58c25ce024f14567985e23cdfcc49327"
            }
          },
          "metadata": {}
        },
        {
          "output_type": "stream",
          "name": "stdout",
          "text": [
            "Alright, no addition performed.\n",
            "The sum is: 35\n"
          ]
        }
      ]
    }
  ]
}