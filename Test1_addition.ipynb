{
  "nbformat": 4,
  "nbformat_minor": 0,
  "metadata": {
    "colab": {
      "provenance": []
    },
    "kernelspec": {
      "name": "python3",
      "display_name": "Python 3"
    },
    "language_info": {
      "name": "python"
    },
    "widgets": {
      "application/vnd.jupyter.widget-state+json": {
        "44bf2a7a3c3c446081c0a9d3e695d36b": {
          "model_module": "@jupyter-widgets/controls",
          "model_name": "ButtonModel",
          "model_module_version": "1.5.0",
          "state": {
            "_dom_classes": [],
            "_model_module": "@jupyter-widgets/controls",
            "_model_module_version": "1.5.0",
            "_model_name": "ButtonModel",
            "_view_count": null,
            "_view_module": "@jupyter-widgets/controls",
            "_view_module_version": "1.5.0",
            "_view_name": "ButtonView",
            "button_style": "",
            "description": "Yes",
            "disabled": false,
            "icon": "",
            "layout": "IPY_MODEL_985539c408e64880b1950732a9f2de73",
            "style": "IPY_MODEL_55f7a36348b04ad7be2f8d058f32adae",
            "tooltip": ""
          }
        },
        "985539c408e64880b1950732a9f2de73": {
          "model_module": "@jupyter-widgets/base",
          "model_name": "LayoutModel",
          "model_module_version": "1.2.0",
          "state": {
            "_model_module": "@jupyter-widgets/base",
            "_model_module_version": "1.2.0",
            "_model_name": "LayoutModel",
            "_view_count": null,
            "_view_module": "@jupyter-widgets/base",
            "_view_module_version": "1.2.0",
            "_view_name": "LayoutView",
            "align_content": null,
            "align_items": null,
            "align_self": null,
            "border": null,
            "bottom": null,
            "display": null,
            "flex": null,
            "flex_flow": null,
            "grid_area": null,
            "grid_auto_columns": null,
            "grid_auto_flow": null,
            "grid_auto_rows": null,
            "grid_column": null,
            "grid_gap": null,
            "grid_row": null,
            "grid_template_areas": null,
            "grid_template_columns": null,
            "grid_template_rows": null,
            "height": null,
            "justify_content": null,
            "justify_items": null,
            "left": null,
            "margin": null,
            "max_height": null,
            "max_width": null,
            "min_height": null,
            "min_width": null,
            "object_fit": null,
            "object_position": null,
            "order": null,
            "overflow": null,
            "overflow_x": null,
            "overflow_y": null,
            "padding": null,
            "right": null,
            "top": null,
            "visibility": null,
            "width": null
          }
        },
        "55f7a36348b04ad7be2f8d058f32adae": {
          "model_module": "@jupyter-widgets/controls",
          "model_name": "ButtonStyleModel",
          "model_module_version": "1.5.0",
          "state": {
            "_model_module": "@jupyter-widgets/controls",
            "_model_module_version": "1.5.0",
            "_model_name": "ButtonStyleModel",
            "_view_count": null,
            "_view_module": "@jupyter-widgets/base",
            "_view_module_version": "1.2.0",
            "_view_name": "StyleView",
            "button_color": null,
            "font_weight": ""
          }
        },
        "f51fd60f7f5e40c38a816fd9d8d03c05": {
          "model_module": "@jupyter-widgets/controls",
          "model_name": "ButtonModel",
          "model_module_version": "1.5.0",
          "state": {
            "_dom_classes": [],
            "_model_module": "@jupyter-widgets/controls",
            "_model_module_version": "1.5.0",
            "_model_name": "ButtonModel",
            "_view_count": null,
            "_view_module": "@jupyter-widgets/controls",
            "_view_module_version": "1.5.0",
            "_view_name": "ButtonView",
            "button_style": "",
            "description": "No",
            "disabled": false,
            "icon": "",
            "layout": "IPY_MODEL_dc2cb6a0c6304714ba11bbc2ed267621",
            "style": "IPY_MODEL_ab8e37f386534c6d892acf7ed1b78cfe",
            "tooltip": ""
          }
        },
        "dc2cb6a0c6304714ba11bbc2ed267621": {
          "model_module": "@jupyter-widgets/base",
          "model_name": "LayoutModel",
          "model_module_version": "1.2.0",
          "state": {
            "_model_module": "@jupyter-widgets/base",
            "_model_module_version": "1.2.0",
            "_model_name": "LayoutModel",
            "_view_count": null,
            "_view_module": "@jupyter-widgets/base",
            "_view_module_version": "1.2.0",
            "_view_name": "LayoutView",
            "align_content": null,
            "align_items": null,
            "align_self": null,
            "border": null,
            "bottom": null,
            "display": null,
            "flex": null,
            "flex_flow": null,
            "grid_area": null,
            "grid_auto_columns": null,
            "grid_auto_flow": null,
            "grid_auto_rows": null,
            "grid_column": null,
            "grid_gap": null,
            "grid_row": null,
            "grid_template_areas": null,
            "grid_template_columns": null,
            "grid_template_rows": null,
            "height": null,
            "justify_content": null,
            "justify_items": null,
            "left": null,
            "margin": null,
            "max_height": null,
            "max_width": null,
            "min_height": null,
            "min_width": null,
            "object_fit": null,
            "object_position": null,
            "order": null,
            "overflow": null,
            "overflow_x": null,
            "overflow_y": null,
            "padding": null,
            "right": null,
            "top": null,
            "visibility": null,
            "width": null
          }
        },
        "ab8e37f386534c6d892acf7ed1b78cfe": {
          "model_module": "@jupyter-widgets/controls",
          "model_name": "ButtonStyleModel",
          "model_module_version": "1.5.0",
          "state": {
            "_model_module": "@jupyter-widgets/controls",
            "_model_module_version": "1.5.0",
            "_model_name": "ButtonStyleModel",
            "_view_count": null,
            "_view_module": "@jupyter-widgets/base",
            "_view_module_version": "1.2.0",
            "_view_name": "StyleView",
            "button_color": null,
            "font_weight": ""
          }
        }
      }
    }
  },
  "cells": [
    {
      "cell_type": "markdown",
      "source": [
        "# First test to put something online\n",
        "## 1. Using Google CoLab online Jupyter notebook to prepare the Python code.\n",
        "## 2. Save it in Gibhub instead of local machine.\n",
        "## 3. Link it to Binder so use can try the code without installing the environment.\n",
        "### Let's see."
      ],
      "metadata": {
        "id": "NEW-c_ME_BoZ"
      }
    },
    {
      "cell_type": "markdown",
      "source": [
        "## Loading the necessary libraries"
      ],
      "metadata": {
        "id": "pvR9gD2k_tpo"
      }
    },
    {
      "cell_type": "code",
      "source": [
        "import ipywidgets as widgets\n",
        "from IPython.display import display\n",
        "from datetime import date\n",
        "import matplotlib.pyplot as plt\n",
        "\n",
        "# Ensure plots display in the notebook\n",
        "%matplotlib inline"
      ],
      "metadata": {
        "id": "3YtYbpLy58QV"
      },
      "execution_count": 19,
      "outputs": []
    },
    {
      "cell_type": "markdown",
      "source": [
        "## We will do some numbers and addition here. So we need to check if user's input are numbers, or we need to ask them to retry. We aslo define function for addtion here."
      ],
      "metadata": {
        "id": "KW2-kzRS_1ag"
      }
    },
    {
      "cell_type": "code",
      "source": [
        "# Function to handle user input and ensure it's a number\n",
        "def get_number(prompt):\n",
        "    while True:\n",
        "        try:\n",
        "            num = float(input(prompt))\n",
        "            if num.is_integer():\n",
        "                return int(num)\n",
        "            return num\n",
        "        except ValueError:\n",
        "            print(\"That's not a valid number. Please try again.\")\n",
        "\n",
        "# Function to add numbers\n",
        "def add_numbers(b):\n",
        "    result = num1 + num2\n",
        "    print(f\"The sum is: {result}\")\n",
        "\n",
        "# Function for no addition\n",
        "def no_addition(b):\n",
        "    print(\"Alright, no addition performed.\")\n",
        "\n",
        "# Function to plot the bar chart\n",
        "def plot_chart(num1, num2, result):\n",
        "    labels = ['Number 1', 'Number 2', 'Result']\n",
        "    values = [num1, num2, result]\n",
        "\n",
        "    plt.figure(figsize=(6, 4))\n",
        "    plt.bar(labels, values, color=['blue', 'green', 'orange'])\n",
        "    plt.ylabel('Values')\n",
        "    plt.title('Numbers and Their Sum')\n",
        "    plt.show()\n",
        "\n",
        "def plot_chart2(num1, num2, result):\n",
        "    x_values = [1, 2, 3]  # Positions on the x-axis\n",
        "    y_values = [num1, num2, result]\n",
        "\n",
        "    plt.figure(figsize=(6, 4))\n",
        "    plt.plot(x_values, y_values, marker='o', linestyle='-')  # Use a line plot with markers\n",
        "    plt.xticks(x_values, ['Number 1', 'Number 2', 'Result'])  # Set x-axis labels\n",
        "    plt.ylabel('Values')\n",
        "    plt.title('Numbers and Their Sum (Line Plot)')\n",
        "    plt.show()"
      ],
      "metadata": {
        "id": "Lhtefkw859JH"
      },
      "execution_count": 20,
      "outputs": []
    },
    {
      "cell_type": "markdown",
      "source": [
        "## Testing how to output \"Today\", and then using \"get_number\" to ask for input."
      ],
      "metadata": {
        "id": "Ejs96CI-AJwf"
      }
    },
    {
      "cell_type": "code",
      "source": [
        "# Get today's date\n",
        "today = date.today()\n",
        "\n",
        "# Print today's date and \"Hello world!\" on the same line\n",
        "print(\"Today's date is:\", today, \". Hello world!\")\n",
        "print(\"Let's do some maths\")\n",
        "\n",
        "# Ask the user to input two numbers\n",
        "num1 = get_number(\"Enter the first number: \")\n",
        "num2 = get_number(\"Enter the second number: \")\n",
        "\n",
        "# Print the numbers to confirm input\n",
        "print(\"You entered:\", num1, \"and\", num2)\n",
        "\n",
        "# Print question\n",
        "print(\"Do you want to add them up?\")\n"
      ],
      "metadata": {
        "colab": {
          "base_uri": "https://localhost:8080/"
        },
        "id": "RelBBOkw5_Ot",
        "outputId": "bf5e0339-9220-4b3f-e2c4-a06f71a44c3d"
      },
      "execution_count": 21,
      "outputs": [
        {
          "output_type": "stream",
          "name": "stdout",
          "text": [
            "Today's date is: 2024-08-11 . Hello world!\n",
            "Let's do some maths\n",
            "Enter the first number: 25\n",
            "Enter the second number: 35\n",
            "You entered: 25 and 35\n",
            "Do you want to add them up?\n"
          ]
        }
      ]
    },
    {
      "cell_type": "markdown",
      "source": [
        "## An interesting test on creating buttons, and reaction after a click."
      ],
      "metadata": {
        "id": "kTASuW1OAYc4"
      }
    },
    {
      "cell_type": "code",
      "source": [
        "# Create Yes and No buttons using ipywidgets\n",
        "yes_button = widgets.Button(description=\"Yes\")\n",
        "no_button = widgets.Button(description=\"No\")\n",
        "\n",
        "# Bind the button clicks to functions\n",
        "yes_button.on_click(add_numbers)\n",
        "no_button.on_click(no_addition)\n",
        "\n",
        "# Display the buttons\n",
        "display(yes_button, no_button)\n"
      ],
      "metadata": {
        "colab": {
          "base_uri": "https://localhost:8080/",
          "height": 81,
          "referenced_widgets": [
            "44bf2a7a3c3c446081c0a9d3e695d36b",
            "985539c408e64880b1950732a9f2de73",
            "55f7a36348b04ad7be2f8d058f32adae",
            "f51fd60f7f5e40c38a816fd9d8d03c05",
            "dc2cb6a0c6304714ba11bbc2ed267621",
            "ab8e37f386534c6d892acf7ed1b78cfe"
          ]
        },
        "id": "CoVXSpYf6BZI",
        "outputId": "d7d5e902-1eb6-4b79-ba9f-eac1ee0a6c50"
      },
      "execution_count": 22,
      "outputs": [
        {
          "output_type": "display_data",
          "data": {
            "text/plain": [
              "Button(description='Yes', style=ButtonStyle())"
            ],
            "application/vnd.jupyter.widget-view+json": {
              "version_major": 2,
              "version_minor": 0,
              "model_id": "44bf2a7a3c3c446081c0a9d3e695d36b"
            }
          },
          "metadata": {}
        },
        {
          "output_type": "display_data",
          "data": {
            "text/plain": [
              "Button(description='No', style=ButtonStyle())"
            ],
            "application/vnd.jupyter.widget-view+json": {
              "version_major": 2,
              "version_minor": 0,
              "model_id": "f51fd60f7f5e40c38a816fd9d8d03c05"
            }
          },
          "metadata": {}
        }
      ]
    },
    {
      "cell_type": "markdown",
      "source": [
        "# Showing the results, and 2 ways to plot the answer."
      ],
      "metadata": {
        "id": "tIE1SQ30Ge5I"
      }
    },
    {
      "cell_type": "code",
      "source": [
        "result = num1 + num2\n",
        "plot_chart(num1, num2, result)  # Original bar chart\n",
        "plot_chart2(num1, num2, result)  # New line plot"
      ],
      "metadata": {
        "id": "12BaddIGFeIK",
        "outputId": "bc702809-ef63-4e50-9f19-8e1b2e13f266",
        "colab": {
          "base_uri": "https://localhost:8080/",
          "height": 765
        }
      },
      "execution_count": 23,
      "outputs": [
        {
          "output_type": "display_data",
          "data": {
            "text/plain": [
              "<Figure size 600x400 with 1 Axes>"
            ],
            "image/png": "[encoded data removed]"
          },
          "metadata": {}
        },
        {
          "output_type": "display_data",
          "data": {
            "text/plain": [
              "<Figure size 600x400 with 1 Axes>"
            ],
            "image/png": "[encoded data removed]"
          },
          "metadata": {}
        }
      ]
    }
  ]
}